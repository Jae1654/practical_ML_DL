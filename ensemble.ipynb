{
 "cells": [
  {
   "cell_type": "code",
   "execution_count": 35,
   "metadata": {},
   "outputs": [
    {
     "name": "stdout",
     "output_type": "stream",
     "text": [
      "Collecting xgboost\n",
      "  Downloading xgboost-2.1.2-py3-none-macosx_12_0_arm64.whl.metadata (2.1 kB)\n",
      "Requirement already satisfied: numpy in ./env/lib/python3.12/site-packages (from xgboost) (2.0.2)\n",
      "Requirement already satisfied: scipy in ./env/lib/python3.12/site-packages (from xgboost) (1.14.1)\n",
      "Downloading xgboost-2.1.2-py3-none-macosx_12_0_arm64.whl (1.9 MB)\n",
      "\u001b[2K   \u001b[90m━━━━━━━━━━━━━━━━━━━━━━━━━━━━━━━━━━━━━━━━\u001b[0m \u001b[32m1.9/1.9 MB\u001b[0m \u001b[31m9.7 MB/s\u001b[0m eta \u001b[36m0:00:00\u001b[0mta \u001b[36m0:00:01\u001b[0m\n",
      "\u001b[?25hInstalling collected packages: xgboost\n",
      "Successfully installed xgboost-2.1.2\n",
      "Note: you may need to restart the kernel to use updated packages.\n"
     ]
    }
   ],
   "source": [
    "#%pip install tensorflow xgboost lightgbm"
   ]
  },
  {
   "cell_type": "code",
   "execution_count": 2,
   "metadata": {},
   "outputs": [],
   "source": [
    "#%conda install -c conda-forge seaborn pandas numpy matplotlib scikit-learn statsmodels"
   ]
  },
  {
   "cell_type": "code",
   "execution_count": 17,
   "metadata": {},
   "outputs": [],
   "source": [
    "import pandas as pd\n",
    "import numpy as np"
   ]
  },
  {
   "cell_type": "markdown",
   "metadata": {},
   "source": [
    "### Ensemble model\n",
    "\n",
    "- Use the **wisdom of crowd** -> law of large numbers\n",
    "- But, model must be independent to each other\n",
    "- One way to perform ensemble model is to train multiple models and aggregate the result\n",
    "- Another way is to use the same algorithm, but create multiple subset(**Bagging** or **Pasting**) from the train set, train the model differently, and then aggregate the result\n"
   ]
  },
  {
   "cell_type": "markdown",
   "metadata": {},
   "source": [
    "### Bagging and Pasting\n",
    "\n",
    "- Bagging: Sample w/o replacement\n",
    "- Pasting: Sample w/ replacement\n",
    "- We can apply parallel computing\n",
    "- If we use bagging, some sample would never be contained in the train set. So, we call those sample call **OOB**, and use for validation set\n"
   ]
  },
  {
   "cell_type": "code",
   "execution_count": 11,
   "metadata": {},
   "outputs": [
    {
     "name": "stdout",
     "output_type": "stream",
     "text": [
      "0.9253333333333333\n"
     ]
    },
    {
     "data": {
      "text/plain": [
       "array([0, 0, 0, 1, 1, 1, 0, 0, 0, 0, 1, 0, 1, 1, 1, 0, 0, 1, 1, 0, 0, 1,\n",
       "       1, 0, 0, 0, 1, 0, 1, 0, 1, 1, 0, 0, 1, 0, 0, 1, 1, 1, 0, 1, 0, 0,\n",
       "       0, 0, 1, 1, 1, 1, 1, 1, 0, 0, 1, 0, 1, 1, 0, 1, 0, 1, 1, 0, 1, 0,\n",
       "       0, 0, 0, 1, 0, 0, 1, 1, 0, 0, 1, 1, 0, 0, 1, 1, 1, 0, 1, 1, 1, 0,\n",
       "       1, 1, 1, 0, 0, 0, 0, 1, 0, 1, 0, 1, 0, 1, 1, 0, 0, 0, 0, 0, 1, 1,\n",
       "       1, 0, 0, 1, 1, 0, 0, 0, 0, 1, 1, 1, 0, 0, 0])"
      ]
     },
     "execution_count": 11,
     "metadata": {},
     "output_type": "execute_result"
    }
   ],
   "source": [
    "from sklearn.model_selection import train_test_split\n",
    "from sklearn.datasets import make_moons\n",
    "from sklearn.ensemble import BaggingClassifier\n",
    "from sklearn.tree import DecisionTreeClassifier\n",
    "\n",
    "X, y = make_moons(n_samples=500, noise = 0.3, random_state=42)\n",
    "\n",
    "X_train, X_test, y_train, y_test = train_test_split(X,y, random_state=42)\n",
    "\n",
    "bag_clf = BaggingClassifier(DecisionTreeClassifier(),\n",
    "                            n_estimators= 500,\n",
    "                            max_samples=100,\n",
    "                            n_jobs= -1, # number of CPU\n",
    "                            bootstrap= True, # sample w/ replacement\n",
    "                            oob_score= True, # Use OOB scoring\n",
    "                            random_state=42)\n",
    "\n",
    "bag_clf.fit(X_train,y_train)\n",
    "print(bag_clf.oob_score_)\n",
    "bag_clf.predict(X_test)"
   ]
  },
  {
   "cell_type": "markdown",
   "metadata": {},
   "source": [
    "# 2. Random Forest\n",
    "\n",
    "- Ensemble model of descision tree with Bagging or Pasting\n",
    "- Random Forest is not focusing on finding the best feature to split from \"all\" features, rather it focuses on finding\n",
    "  the best feature from randomly selected featues -> reduces the variance and generate more diverse tree\n",
    "- Random Forest basically choose square root of N features for each tree\n"
   ]
  },
  {
   "cell_type": "markdown",
   "metadata": {},
   "source": [
    "### 2.1 Basic Model\n"
   ]
  },
  {
   "cell_type": "code",
   "execution_count": 12,
   "metadata": {},
   "outputs": [],
   "source": [
    "from sklearn.ensemble import RandomForestClassifier\n",
    "\n",
    "rnd_clf = RandomForestClassifier(n_estimators=500, # number of models to generate\n",
    "                                 max_leaf_nodes=16, # depth of the model\n",
    "                                 class_weight = 'balanced', # to reduce the imbalancity \n",
    "                                 n_jobs = -1, #\n",
    "                                 random_state=42\n",
    "                                 )"
   ]
  },
  {
   "cell_type": "markdown",
   "metadata": {},
   "source": [
    "### 2.2 Feature Importance\n"
   ]
  },
  {
   "cell_type": "code",
   "execution_count": null,
   "metadata": {},
   "outputs": [],
   "source": []
  },
  {
   "cell_type": "code",
   "execution_count": 21,
   "metadata": {},
   "outputs": [
    {
     "data": {
      "text/plain": [
       "Index(['sepal length (cm)', 'sepal width (cm)', 'petal length (cm)',\n",
       "       'petal width (cm)'],\n",
       "      dtype='object')"
      ]
     },
     "execution_count": 21,
     "metadata": {},
     "output_type": "execute_result"
    }
   ],
   "source": [
    "iris.data.columns"
   ]
  },
  {
   "cell_type": "code",
   "execution_count": 34,
   "metadata": {},
   "outputs": [
    {
     "name": "stdout",
     "output_type": "stream",
     "text": [
      "0.11 sepal length (cm)\n",
      "0.02 sepal width (cm)\n",
      "0.44 petal length (cm)\n",
      "0.42 petal width (cm)\n"
     ]
    },
    {
     "data": {
      "text/plain": [
       "<Axes: >"
      ]
     },
     "execution_count": 34,
     "metadata": {},
     "output_type": "execute_result"
    },
    {
     "data": {
      "image/png": "[encoded data removed]",
      "text/plain": [
       "<Figure size 640x480 with 2 Axes>"
      ]
     },
     "metadata": {},
     "output_type": "display_data"
    }
   ],
   "source": [
    "from sklearn.datasets import load_iris\n",
    "import seaborn as sns\n",
    "\n",
    "iris = load_iris(as_frame=True)\n",
    "rnd_clf = RandomForestClassifier(n_estimators=500, # number of models to generate\n",
    "                                 max_leaf_nodes=16, # depth of the model\n",
    "                                 n_jobs = -1, #\n",
    "                                 random_state=42\n",
    "                                 )\n",
    "rnd_clf.fit(iris.data, iris.target)\n",
    "\n",
    "# Print Feature importance\n",
    "for score, name in zip(rnd_clf.feature_importances_, iris.data.columns):\n",
    "    print(round(score,2), name)\n",
    "\n",
    "ft_imp_df = pd.DataFrame(rnd_clf.feature_importances_, index = iris.data.columns, columns = ['features'])\n",
    "sns.heatmap(ft_imp_df)"
   ]
  },
  {
   "cell_type": "markdown",
   "metadata": {},
   "source": [
    "# 3. Boosting\n",
    "\n",
    "- Connect multiple weak estimators to generate a strong estimator\n",
    "- Train estimator by supplementing weak estimators\n"
   ]
  },
  {
   "cell_type": "markdown",
   "metadata": {},
   "source": [
    "### 3.1 XGBoost\n",
    "\n",
    "- n_estimators: # of decision trees, by default 100\n",
    "- learning_rate: by default 0.3\n",
    "- max_depth: max depth of the tree, one of the regulation parameters\n",
    "- subsample: ratio of the training sample. By default 1.0, the whole sample.\n",
    "- colsample_bytree: ratio of the features usage for training. By default 1.0. one of the regulation parameters.\n"
   ]
  },
  {
   "cell_type": "code",
   "execution_count": 45,
   "metadata": {},
   "outputs": [
    {
     "name": "stdout",
     "output_type": "stream",
     "text": [
      "XGBoost f1_score: 1.0000\n",
      "Random Forest f1_score: 1.0000\n"
     ]
    }
   ],
   "source": [
    "import xgboost as xgb\n",
    "from sklearn.metrics import f1_score\n",
    "\n",
    "iris = load_iris()\n",
    "X, y = iris.data, iris.target\n",
    "X_train, X_test, y_train, y_test = train_test_split(X, y, test_size=0.2, random_state=42)\n",
    "\n",
    "xgb_clf = xgb.XGBClassifier(\n",
    "    n_estimators=100,        \n",
    "    learning_rate=0.1,       \n",
    "    max_depth=3,             \n",
    "    subsample=0.8,           \n",
    "    colsample_bytree=0.8, \n",
    "    n_jobs=-1,\n",
    "    random_state=42          \n",
    ")\n",
    "\n",
    "# Train\n",
    "xgb_clf.fit(X_train, y_train)\n",
    "# Predict\n",
    "y_pred = xgb_clf.predict(X_test)\n",
    "# Scoreing\n",
    "accuracy = f1_score(y_test, y_pred, average='macro')\n",
    "print(f\"XGBoost f1_score: {accuracy:.4f}\")\n",
    "\n",
    "# Compare with rf\n",
    "rnd_clf = RandomForestClassifier(n_estimators=100, # number of models to generate\n",
    "                                 max_depth= 3,\n",
    "                                 max_leaf_nodes=16, # depth of the model\n",
    "                                 n_jobs = -1, \n",
    "                                 random_state=42\n",
    "                                 )\n",
    "# Train\n",
    "xgb_clf.fit(X_train, y_train)\n",
    "# Predict\n",
    "y_pred = xgb_clf.predict(X_test)\n",
    "# Scoreing\n",
    "accuracy = f1_score(y_test, y_pred, average='macro')\n",
    "print(f\"Random Forest f1_score: {accuracy:.4f}\")"
   ]
  },
  {
   "cell_type": "markdown",
   "metadata": {},
   "source": [
    "### 3.2 LightGBM\n",
    "\n",
    "- Similar to XGBoost, but more suitable for large dataset\n"
   ]
  },
  {
   "cell_type": "code",
   "execution_count": 48,
   "metadata": {},
   "outputs": [
    {
     "name": "stdout",
     "output_type": "stream",
     "text": [
      "Accuracy: 1.0000\n"
     ]
    }
   ],
   "source": [
    "import lightgbm as lgb\n",
    "from sklearn.datasets import load_iris\n",
    "from sklearn.model_selection import train_test_split\n",
    "from sklearn.metrics import accuracy_score\n",
    "\n",
    "# 데이터 로드 및 분할\n",
    "iris = load_iris()\n",
    "X, y = iris.data, iris.target\n",
    "X_train, X_test, y_train, y_test = train_test_split(X, y, test_size=0.2, random_state=42)\n",
    "\n",
    "# 모델 초기화\n",
    "lgb_clf = lgb.LGBMClassifier(\n",
    "    n_estimators=100,      # 트리 개수\n",
    "    learning_rate=0.1,     # 학습률\n",
    "    max_depth=4,           # 트리의 최대 깊이>\n",
    "    num_leaves=16,         # 최대 리프 노드 수\n",
    "    subsample=0.8,         # 각 트리에 사용할 샘플 비율\n",
    "    colsample_bytree=0.8,  # 각 트리에 사용할 특성 비율\n",
    "    random_state=42,       # 난수 시드 고정\n",
    "    verbose = -1\n",
    ")\n",
    "\n",
    "# 모델 학습\n",
    "lgb_clf.fit(X_train, y_train)\n",
    "\n",
    "# 예측 및 평가\n",
    "y_pred = lgb_clf.predict(X_test)\n",
    "accuracy = f1_score(y_test, y_pred, average='macro')\n",
    "print(f\"Accuracy: {accuracy:.4f}\")\n"
   ]
  }
 ],
 "metadata": {
  "kernelspec": {
   "display_name": "Python 3",
   "language": "python",
   "name": "python3"
  },
  "language_info": {
   "codemirror_mode": {
    "name": "ipython",
    "version": 3
   },
   "file_extension": ".py",
   "mimetype": "text/x-python",
   "name": "python",
   "nbconvert_exporter": "python",
   "pygments_lexer": "ipython3",
   "version": "3.12.7"
  }
 },
 "nbformat": 4,
 "nbformat_minor": 2
}
